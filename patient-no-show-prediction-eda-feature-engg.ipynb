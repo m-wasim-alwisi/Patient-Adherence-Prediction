{
 "cells": [
  {
   "cell_type": "markdown",
   "metadata": {},
   "source": [
    "# 🧠 Patient Adherence Prediction: A Mini Case Study\n",
    "\n",
    "#### Using anonymized patient appointment data 🗂️, we aim to predict the likelihood of a patient missing their next appointment 📅❌, helping healthcare providers 🏥 optimize follow-ups 🔁 and reduce dropouts 📉.\n"
   ]
  },
  {
   "cell_type": "markdown",
   "metadata": {},
   "source": [
    "### Summary \n",
    "- Rows 110K\n",
    "- Total 14 features- Key features: `ScheduledDay`, `AppointmentDay`, `Age`, `Gender`, `No-show`, `SMS_received`, etc.\n",
    "- Target: No-show (Yes = missed, No = attended)\n",
    "\n",
    "### Data Issues and challenges observed during analysis\n",
    "- Imbalance data.\n",
    "- age has value -1."
   ]
  },
  {
   "cell_type": "markdown",
   "metadata": {},
   "source": [
    "1 ## 📋 Key Observations from Binary Features Analysis\n",
    "\n",
    "Below are the key patterns observed in no-show behavior across various binary medical and behavioral features:\n",
    "\n",
    "| Feature         | Higher No-show Rate in | Difference & Insight                                                                 |\n",
    "|----------------|------------------------|----------------------------------------------------------------------------------------|\n",
    "| 🎓 Scholarship   | ✅ Scholarship (1)        | Scholarship recipients had slightly higher no-show rates, possibly linked to deeper socioeconomic issues. |\n",
    "| 🩺 Hypertension  | ❌ No Hypertension (0)   | Patients without hypertension missed more appointments, while hypertensive patients were more consistent. |\n",
    "| 🍩 Diabetes      | ❌ No Diabetes (0)        | Diabetics showed better adherence, likely due to the need for regular care.            |\n",
    "| 🍷 Alcoholism    | ⚖️ Similar in both       | No significant difference — alcoholism didn’t strongly impact no-show behavior.        |\n",
    "| ♿ Handicap       | ✅ Higher Handicap (3–4) | No-show rate increased with severity — possibly due to mobility or access challenges.  |\n",
    "| 📩 SMS Received  | ✅ SMS Received (1)      | Counterintuitive: No-show rate was higher **despite** receiving SMS — may reflect poor timing, ineffective messaging, or alert fatigue. |\n",
    "\n",
    "---\n",
    "\n",
    "### 🧠 Takeaway:\n",
    "Most chronic conditions (hypertension, diabetes) **correlate with better appointment adherence**, suggesting stronger engagement with the healthcare system.  \n",
    "However, higher no-show rates among **scholarship recipients and highly handicapped patients** highlight the need for **targeted support and accessibility solutions**.  \n",
    "Interestingly, **SMS reminders alone may not improve adherence**, and their effectiveness should be reassessed.\n"
   ]
  },
  {
   "cell_type": "code",
   "execution_count": 28,
   "metadata": {
    "execution": {
     "iopub.execute_input": "2025-03-30T01:17:27.832279Z",
     "iopub.status.busy": "2025-03-30T01:17:27.831892Z",
     "iopub.status.idle": "2025-03-30T01:17:27.838622Z",
     "shell.execute_reply": "2025-03-30T01:17:27.837352Z",
     "shell.execute_reply.started": "2025-03-30T01:17:27.83225Z"
    },
    "trusted": true
   },
   "outputs": [],
   "source": [
    "# Required libraries\n",
    "from sklearn.linear_model import LogisticRegression\n",
    "from sklearn.ensemble import RandomForestClassifier\n",
    "# from xgboost import XGBClassifier\n",
    "from sklearn.model_selection import train_test_split\n",
    "from sklearn.preprocessing import LabelEncoder\n",
    "from sklearn.metrics import accuracy_score, precision_score, recall_score, f1_score\n",
    "from sklearn.metrics import roc_auc_score, roc_curve\n",
    "from imblearn.over_sampling import SMOTE\n",
    "import pandas as pd\n",
    "import matplotlib.pyplot as plt\n",
    "import seaborn as sns\n",
    "from sklearn.metrics import roc_auc_score, roc_curve"
   ]
  },
  {
   "cell_type": "code",
   "execution_count": 29,
   "metadata": {},
   "outputs": [
    {
     "name": "stdout",
     "output_type": "stream",
     "text": [
      "Warning: Looks like you're using an outdated `kagglehub` version, please consider updating (latest version: 0.3.13)\n",
      "Path to dataset files: C:\\Users\\user\\.cache\\kagglehub\\datasets\\wbadry\\noshow-appointment-may-2016\\versions\\1\n"
     ]
    }
   ],
   "source": [
    "import kagglehub\n",
    "\n",
    "# Download latest version\n",
    "path = kagglehub.dataset_download(\"wbadry/noshow-appointment-may-2016\")\n",
    "\n",
    "print(\"Path to dataset files:\", path)"
   ]
  },
  {
   "cell_type": "code",
   "execution_count": 30,
   "metadata": {
    "execution": {
     "iopub.execute_input": "2025-03-30T01:12:36.886087Z",
     "iopub.status.busy": "2025-03-30T01:12:36.885427Z",
     "iopub.status.idle": "2025-03-30T01:12:37.335261Z",
     "shell.execute_reply": "2025-03-30T01:12:37.334045Z",
     "shell.execute_reply.started": "2025-03-30T01:12:36.886044Z"
    },
    "trusted": true
   },
   "outputs": [],
   "source": [
    "df = pd.read_csv(r\"C:\\Users\\user\\.cache\\kagglehub\\datasets\\wbadry\\noshow-appointment-may-2016\\versions\\1\\noshowappointments-kagglev2-may-2016.csv\")\n"
   ]
  },
  {
   "cell_type": "markdown",
   "metadata": {},
   "source": [
    "### 1. Dataset Overview"
   ]
  },
  {
   "cell_type": "code",
   "execution_count": 31,
   "metadata": {
    "execution": {
     "iopub.execute_input": "2025-03-30T01:12:37.336618Z",
     "iopub.status.busy": "2025-03-30T01:12:37.336309Z",
     "iopub.status.idle": "2025-03-30T01:12:37.372267Z",
     "shell.execute_reply": "2025-03-30T01:12:37.371099Z",
     "shell.execute_reply.started": "2025-03-30T01:12:37.336589Z"
    },
    "trusted": true
   },
   "outputs": [
    {
     "data": {
      "text/html": [
       "<div>\n",
       "<style scoped>\n",
       "    .dataframe tbody tr th:only-of-type {\n",
       "        vertical-align: middle;\n",
       "    }\n",
       "\n",
       "    .dataframe tbody tr th {\n",
       "        vertical-align: top;\n",
       "    }\n",
       "\n",
       "    .dataframe thead th {\n",
       "        text-align: right;\n",
       "    }\n",
       "</style>\n",
       "<table border=\"1\" class=\"dataframe\">\n",
       "  <thead>\n",
       "    <tr style=\"text-align: right;\">\n",
       "      <th></th>\n",
       "      <th>PatientId</th>\n",
       "      <th>AppointmentID</th>\n",
       "      <th>Gender</th>\n",
       "      <th>ScheduledDay</th>\n",
       "      <th>AppointmentDay</th>\n",
       "      <th>Age</th>\n",
       "      <th>Neighbourhood</th>\n",
       "      <th>Scholarship</th>\n",
       "      <th>Hipertension</th>\n",
       "      <th>Diabetes</th>\n",
       "      <th>Alcoholism</th>\n",
       "      <th>Handcap</th>\n",
       "      <th>SMS_received</th>\n",
       "      <th>No-show</th>\n",
       "    </tr>\n",
       "  </thead>\n",
       "  <tbody>\n",
       "    <tr>\n",
       "      <th>0</th>\n",
       "      <td>2.987250e+13</td>\n",
       "      <td>5642903</td>\n",
       "      <td>F</td>\n",
       "      <td>2016-04-29T18:38:08Z</td>\n",
       "      <td>2016-04-29T00:00:00Z</td>\n",
       "      <td>62</td>\n",
       "      <td>JARDIM DA PENHA</td>\n",
       "      <td>0</td>\n",
       "      <td>1</td>\n",
       "      <td>0</td>\n",
       "      <td>0</td>\n",
       "      <td>0</td>\n",
       "      <td>0</td>\n",
       "      <td>No</td>\n",
       "    </tr>\n",
       "    <tr>\n",
       "      <th>1</th>\n",
       "      <td>5.589978e+14</td>\n",
       "      <td>5642503</td>\n",
       "      <td>M</td>\n",
       "      <td>2016-04-29T16:08:27Z</td>\n",
       "      <td>2016-04-29T00:00:00Z</td>\n",
       "      <td>56</td>\n",
       "      <td>JARDIM DA PENHA</td>\n",
       "      <td>0</td>\n",
       "      <td>0</td>\n",
       "      <td>0</td>\n",
       "      <td>0</td>\n",
       "      <td>0</td>\n",
       "      <td>0</td>\n",
       "      <td>No</td>\n",
       "    </tr>\n",
       "    <tr>\n",
       "      <th>2</th>\n",
       "      <td>4.262962e+12</td>\n",
       "      <td>5642549</td>\n",
       "      <td>F</td>\n",
       "      <td>2016-04-29T16:19:04Z</td>\n",
       "      <td>2016-04-29T00:00:00Z</td>\n",
       "      <td>62</td>\n",
       "      <td>MATA DA PRAIA</td>\n",
       "      <td>0</td>\n",
       "      <td>0</td>\n",
       "      <td>0</td>\n",
       "      <td>0</td>\n",
       "      <td>0</td>\n",
       "      <td>0</td>\n",
       "      <td>No</td>\n",
       "    </tr>\n",
       "    <tr>\n",
       "      <th>3</th>\n",
       "      <td>8.679512e+11</td>\n",
       "      <td>5642828</td>\n",
       "      <td>F</td>\n",
       "      <td>2016-04-29T17:29:31Z</td>\n",
       "      <td>2016-04-29T00:00:00Z</td>\n",
       "      <td>8</td>\n",
       "      <td>PONTAL DE CAMBURI</td>\n",
       "      <td>0</td>\n",
       "      <td>0</td>\n",
       "      <td>0</td>\n",
       "      <td>0</td>\n",
       "      <td>0</td>\n",
       "      <td>0</td>\n",
       "      <td>No</td>\n",
       "    </tr>\n",
       "    <tr>\n",
       "      <th>4</th>\n",
       "      <td>8.841186e+12</td>\n",
       "      <td>5642494</td>\n",
       "      <td>F</td>\n",
       "      <td>2016-04-29T16:07:23Z</td>\n",
       "      <td>2016-04-29T00:00:00Z</td>\n",
       "      <td>56</td>\n",
       "      <td>JARDIM DA PENHA</td>\n",
       "      <td>0</td>\n",
       "      <td>1</td>\n",
       "      <td>1</td>\n",
       "      <td>0</td>\n",
       "      <td>0</td>\n",
       "      <td>0</td>\n",
       "      <td>No</td>\n",
       "    </tr>\n",
       "  </tbody>\n",
       "</table>\n",
       "</div>"
      ],
      "text/plain": [
       "      PatientId  AppointmentID Gender          ScheduledDay  \\\n",
       "0  2.987250e+13        5642903      F  2016-04-29T18:38:08Z   \n",
       "1  5.589978e+14        5642503      M  2016-04-29T16:08:27Z   \n",
       "2  4.262962e+12        5642549      F  2016-04-29T16:19:04Z   \n",
       "3  8.679512e+11        5642828      F  2016-04-29T17:29:31Z   \n",
       "4  8.841186e+12        5642494      F  2016-04-29T16:07:23Z   \n",
       "\n",
       "         AppointmentDay  Age      Neighbourhood  Scholarship  Hipertension  \\\n",
       "0  2016-04-29T00:00:00Z   62    JARDIM DA PENHA            0             1   \n",
       "1  2016-04-29T00:00:00Z   56    JARDIM DA PENHA            0             0   \n",
       "2  2016-04-29T00:00:00Z   62      MATA DA PRAIA            0             0   \n",
       "3  2016-04-29T00:00:00Z    8  PONTAL DE CAMBURI            0             0   \n",
       "4  2016-04-29T00:00:00Z   56    JARDIM DA PENHA            0             1   \n",
       "\n",
       "   Diabetes  Alcoholism  Handcap  SMS_received No-show  \n",
       "0         0           0        0             0      No  \n",
       "1         0           0        0             0      No  \n",
       "2         0           0        0             0      No  \n",
       "3         0           0        0             0      No  \n",
       "4         1           0        0             0      No  "
      ]
     },
     "execution_count": 31,
     "metadata": {},
     "output_type": "execute_result"
    }
   ],
   "source": [
    "df.head()"
   ]
  },
  {
   "cell_type": "code",
   "execution_count": 32,
   "metadata": {
    "execution": {
     "iopub.execute_input": "2025-03-30T01:12:37.375432Z",
     "iopub.status.busy": "2025-03-30T01:12:37.375121Z",
     "iopub.status.idle": "2025-03-30T01:12:37.382054Z",
     "shell.execute_reply": "2025-03-30T01:12:37.380971Z",
     "shell.execute_reply.started": "2025-03-30T01:12:37.375406Z"
    },
    "trusted": true
   },
   "outputs": [
    {
     "name": "stdout",
     "output_type": "stream",
     "text": [
      "Total rows: 110527\n",
      "Total columns: 14\n"
     ]
    }
   ],
   "source": [
    "print(\"Total rows:\", df.shape[0])\n",
    "print(\"Total columns:\", df.shape[1])\n"
   ]
  },
  {
   "cell_type": "code",
   "execution_count": 33,
   "metadata": {
    "execution": {
     "iopub.execute_input": "2025-03-30T01:12:37.384375Z",
     "iopub.status.busy": "2025-03-30T01:12:37.383979Z",
     "iopub.status.idle": "2025-03-30T01:12:37.403544Z",
     "shell.execute_reply": "2025-03-30T01:12:37.401931Z",
     "shell.execute_reply.started": "2025-03-30T01:12:37.384338Z"
    },
    "trusted": true
   },
   "outputs": [
    {
     "name": "stdout",
     "output_type": "stream",
     "text": [
      "Columns: Index(['PatientId', 'AppointmentID', 'Gender', 'ScheduledDay',\n",
      "       'AppointmentDay', 'Age', 'Neighbourhood', 'Scholarship', 'Hipertension',\n",
      "       'Diabetes', 'Alcoholism', 'Handcap', 'SMS_received', 'No-show'],\n",
      "      dtype='object')\n"
     ]
    }
   ],
   "source": [
    "print(\"Columns:\", df.columns)"
   ]
  },
  {
   "cell_type": "code",
   "execution_count": 34,
   "metadata": {
    "execution": {
     "iopub.execute_input": "2025-03-30T01:12:37.405115Z",
     "iopub.status.busy": "2025-03-30T01:12:37.404704Z",
     "iopub.status.idle": "2025-03-30T01:12:37.42806Z",
     "shell.execute_reply": "2025-03-30T01:12:37.426958Z",
     "shell.execute_reply.started": "2025-03-30T01:12:37.405073Z"
    },
    "trusted": true
   },
   "outputs": [
    {
     "name": "stdout",
     "output_type": "stream",
     "text": [
      "Data types: PatientId         float64\n",
      "AppointmentID       int64\n",
      "Gender             object\n",
      "ScheduledDay       object\n",
      "AppointmentDay     object\n",
      "Age                 int64\n",
      "Neighbourhood      object\n",
      "Scholarship         int64\n",
      "Hipertension        int64\n",
      "Diabetes            int64\n",
      "Alcoholism          int64\n",
      "Handcap             int64\n",
      "SMS_received        int64\n",
      "No-show            object\n",
      "dtype: object\n"
     ]
    }
   ],
   "source": [
    "print(\"Data types:\", df.dtypes)"
   ]
  },
  {
   "cell_type": "code",
   "execution_count": 35,
   "metadata": {
    "execution": {
     "iopub.execute_input": "2025-03-30T01:12:37.429925Z",
     "iopub.status.busy": "2025-03-30T01:12:37.42936Z",
     "iopub.status.idle": "2025-03-30T01:12:37.493107Z",
     "shell.execute_reply": "2025-03-30T01:12:37.491972Z",
     "shell.execute_reply.started": "2025-03-30T01:12:37.429885Z"
    },
    "trusted": true
   },
   "outputs": [
    {
     "name": "stdout",
     "output_type": "stream",
     "text": [
      "Missing values: PatientId         0\n",
      "AppointmentID     0\n",
      "Gender            0\n",
      "ScheduledDay      0\n",
      "AppointmentDay    0\n",
      "Age               0\n",
      "Neighbourhood     0\n",
      "Scholarship       0\n",
      "Hipertension      0\n",
      "Diabetes          0\n",
      "Alcoholism        0\n",
      "Handcap           0\n",
      "SMS_received      0\n",
      "No-show           0\n",
      "dtype: int64\n"
     ]
    }
   ],
   "source": [
    "print(\"Missing values:\", df.isnull().sum())"
   ]
  },
  {
   "cell_type": "markdown",
   "metadata": {},
   "source": [
    "### 2. Exploratory Data Analysis"
   ]
  },
  {
   "cell_type": "code",
   "execution_count": 36,
   "metadata": {
    "execution": {
     "iopub.execute_input": "2025-03-30T01:12:37.494587Z",
     "iopub.status.busy": "2025-03-30T01:12:37.494213Z",
     "iopub.status.idle": "2025-03-30T01:12:37.50869Z",
     "shell.execute_reply": "2025-03-30T01:12:37.507436Z",
     "shell.execute_reply.started": "2025-03-30T01:12:37.494547Z"
    },
    "trusted": true
   },
   "outputs": [
    {
     "name": "stdout",
     "output_type": "stream",
     "text": [
      "Unique patient: 62299\n"
     ]
    }
   ],
   "source": [
    "print(\"Unique patient:\", df[\"PatientId\"].nunique())"
   ]
  },
  {
   "cell_type": "code",
   "execution_count": 37,
   "metadata": {
    "execution": {
     "iopub.execute_input": "2025-03-30T01:12:37.510379Z",
     "iopub.status.busy": "2025-03-30T01:12:37.51005Z",
     "iopub.status.idle": "2025-03-30T01:12:37.528096Z",
     "shell.execute_reply": "2025-03-30T01:12:37.526936Z",
     "shell.execute_reply.started": "2025-03-30T01:12:37.510348Z"
    },
    "trusted": true
   },
   "outputs": [
    {
     "name": "stdout",
     "output_type": "stream",
     "text": [
      "Unique Appointment: 110527\n"
     ]
    }
   ],
   "source": [
    "print(\"Unique Appointment:\", df[\"AppointmentID\"].nunique())"
   ]
  },
  {
   "cell_type": "code",
   "execution_count": 38,
   "metadata": {
    "execution": {
     "iopub.execute_input": "2025-03-30T01:12:37.529729Z",
     "iopub.status.busy": "2025-03-30T01:12:37.529346Z",
     "iopub.status.idle": "2025-03-30T01:12:37.557994Z",
     "shell.execute_reply": "2025-03-30T01:12:37.556657Z",
     "shell.execute_reply.started": "2025-03-30T01:12:37.529689Z"
    },
    "trusted": true
   },
   "outputs": [
    {
     "data": {
      "text/plain": [
       "No-show\n",
       "No     88208\n",
       "Yes    22319\n",
       "Name: count, dtype: int64"
      ]
     },
     "execution_count": 38,
     "metadata": {},
     "output_type": "execute_result"
    }
   ],
   "source": [
    "df[\"No-show\"].value_counts()"
   ]
  },
  {
   "cell_type": "code",
   "execution_count": 39,
   "metadata": {
    "execution": {
     "iopub.execute_input": "2025-03-30T01:12:37.559448Z",
     "iopub.status.busy": "2025-03-30T01:12:37.559084Z",
     "iopub.status.idle": "2025-03-30T01:12:37.757511Z",
     "shell.execute_reply": "2025-03-30T01:12:37.756403Z",
     "shell.execute_reply.started": "2025-03-30T01:12:37.559408Z"
    },
    "trusted": true
   },
   "outputs": [],
   "source": [
    "df[\"PatientId\"] = df[\"PatientId\"].astype(str)\n",
    "df[\"AppointmentID\"] = df[\"AppointmentID\"].astype(str)"
   ]
  },
  {
   "cell_type": "code",
   "execution_count": 40,
   "metadata": {
    "execution": {
     "iopub.execute_input": "2025-03-30T01:12:37.759213Z",
     "iopub.status.busy": "2025-03-30T01:12:37.758724Z",
     "iopub.status.idle": "2025-03-30T01:12:37.975038Z",
     "shell.execute_reply": "2025-03-30T01:12:37.97388Z",
     "shell.execute_reply.started": "2025-03-30T01:12:37.759169Z"
    },
    "trusted": true
   },
   "outputs": [],
   "source": [
    "df[\"ScheduledDay\"] = pd.to_datetime(df[\"ScheduledDay\"]).dt.date\n",
    "df[\"AppointmentDay\"] = pd.to_datetime(df[\"AppointmentDay\"]).dt.date"
   ]
  },
  {
   "cell_type": "code",
   "execution_count": 41,
   "metadata": {
    "execution": {
     "iopub.execute_input": "2025-03-30T01:12:37.979938Z",
     "iopub.status.busy": "2025-03-30T01:12:37.979561Z",
     "iopub.status.idle": "2025-03-30T01:12:38.041635Z",
     "shell.execute_reply": "2025-03-30T01:12:38.040385Z",
     "shell.execute_reply.started": "2025-03-30T01:12:37.979894Z"
    },
    "trusted": true
   },
   "outputs": [],
   "source": [
    "df['LeadTime'] = (pd.to_datetime(df['AppointmentDay']) - pd.to_datetime(df['ScheduledDay'])).dt.days"
   ]
  },
  {
   "cell_type": "code",
   "execution_count": 42,
   "metadata": {
    "execution": {
     "iopub.execute_input": "2025-03-30T01:12:38.044629Z",
     "iopub.status.busy": "2025-03-30T01:12:38.044334Z",
     "iopub.status.idle": "2025-03-30T01:12:38.064644Z",
     "shell.execute_reply": "2025-03-30T01:12:38.063295Z",
     "shell.execute_reply.started": "2025-03-30T01:12:38.044604Z"
    },
    "trusted": true
   },
   "outputs": [
    {
     "data": {
      "text/html": [
       "<div>\n",
       "<style scoped>\n",
       "    .dataframe tbody tr th:only-of-type {\n",
       "        vertical-align: middle;\n",
       "    }\n",
       "\n",
       "    .dataframe tbody tr th {\n",
       "        vertical-align: top;\n",
       "    }\n",
       "\n",
       "    .dataframe thead th {\n",
       "        text-align: right;\n",
       "    }\n",
       "</style>\n",
       "<table border=\"1\" class=\"dataframe\">\n",
       "  <thead>\n",
       "    <tr style=\"text-align: right;\">\n",
       "      <th></th>\n",
       "      <th>PatientId</th>\n",
       "      <th>AppointmentID</th>\n",
       "      <th>Gender</th>\n",
       "      <th>ScheduledDay</th>\n",
       "      <th>AppointmentDay</th>\n",
       "      <th>Age</th>\n",
       "      <th>Neighbourhood</th>\n",
       "      <th>Scholarship</th>\n",
       "      <th>Hipertension</th>\n",
       "      <th>Diabetes</th>\n",
       "      <th>Alcoholism</th>\n",
       "      <th>Handcap</th>\n",
       "      <th>SMS_received</th>\n",
       "      <th>No-show</th>\n",
       "      <th>LeadTime</th>\n",
       "    </tr>\n",
       "  </thead>\n",
       "  <tbody>\n",
       "    <tr>\n",
       "      <th>27033</th>\n",
       "      <td>7839272661752.0</td>\n",
       "      <td>5679978</td>\n",
       "      <td>M</td>\n",
       "      <td>2016-05-10</td>\n",
       "      <td>2016-05-09</td>\n",
       "      <td>38</td>\n",
       "      <td>RESISTÊNCIA</td>\n",
       "      <td>0</td>\n",
       "      <td>0</td>\n",
       "      <td>0</td>\n",
       "      <td>0</td>\n",
       "      <td>1</td>\n",
       "      <td>0</td>\n",
       "      <td>Yes</td>\n",
       "      <td>-1</td>\n",
       "    </tr>\n",
       "    <tr>\n",
       "      <th>55226</th>\n",
       "      <td>7896293967868.0</td>\n",
       "      <td>5715660</td>\n",
       "      <td>F</td>\n",
       "      <td>2016-05-18</td>\n",
       "      <td>2016-05-17</td>\n",
       "      <td>19</td>\n",
       "      <td>SANTO ANTÔNIO</td>\n",
       "      <td>0</td>\n",
       "      <td>0</td>\n",
       "      <td>0</td>\n",
       "      <td>0</td>\n",
       "      <td>1</td>\n",
       "      <td>0</td>\n",
       "      <td>Yes</td>\n",
       "      <td>-1</td>\n",
       "    </tr>\n",
       "    <tr>\n",
       "      <th>64175</th>\n",
       "      <td>24252258389979.0</td>\n",
       "      <td>5664962</td>\n",
       "      <td>F</td>\n",
       "      <td>2016-05-05</td>\n",
       "      <td>2016-05-04</td>\n",
       "      <td>22</td>\n",
       "      <td>CONSOLAÇÃO</td>\n",
       "      <td>0</td>\n",
       "      <td>0</td>\n",
       "      <td>0</td>\n",
       "      <td>0</td>\n",
       "      <td>0</td>\n",
       "      <td>0</td>\n",
       "      <td>Yes</td>\n",
       "      <td>-1</td>\n",
       "    </tr>\n",
       "    <tr>\n",
       "      <th>71533</th>\n",
       "      <td>998231581612122.0</td>\n",
       "      <td>5686628</td>\n",
       "      <td>F</td>\n",
       "      <td>2016-05-11</td>\n",
       "      <td>2016-05-05</td>\n",
       "      <td>81</td>\n",
       "      <td>SANTO ANTÔNIO</td>\n",
       "      <td>0</td>\n",
       "      <td>0</td>\n",
       "      <td>0</td>\n",
       "      <td>0</td>\n",
       "      <td>0</td>\n",
       "      <td>0</td>\n",
       "      <td>Yes</td>\n",
       "      <td>-6</td>\n",
       "    </tr>\n",
       "    <tr>\n",
       "      <th>72362</th>\n",
       "      <td>3787481966821.0</td>\n",
       "      <td>5655637</td>\n",
       "      <td>M</td>\n",
       "      <td>2016-05-04</td>\n",
       "      <td>2016-05-03</td>\n",
       "      <td>7</td>\n",
       "      <td>TABUAZEIRO</td>\n",
       "      <td>0</td>\n",
       "      <td>0</td>\n",
       "      <td>0</td>\n",
       "      <td>0</td>\n",
       "      <td>0</td>\n",
       "      <td>0</td>\n",
       "      <td>Yes</td>\n",
       "      <td>-1</td>\n",
       "    </tr>\n",
       "  </tbody>\n",
       "</table>\n",
       "</div>"
      ],
      "text/plain": [
       "               PatientId AppointmentID Gender ScheduledDay AppointmentDay  \\\n",
       "27033    7839272661752.0       5679978      M   2016-05-10     2016-05-09   \n",
       "55226    7896293967868.0       5715660      F   2016-05-18     2016-05-17   \n",
       "64175   24252258389979.0       5664962      F   2016-05-05     2016-05-04   \n",
       "71533  998231581612122.0       5686628      F   2016-05-11     2016-05-05   \n",
       "72362    3787481966821.0       5655637      M   2016-05-04     2016-05-03   \n",
       "\n",
       "       Age  Neighbourhood  Scholarship  Hipertension  Diabetes  Alcoholism  \\\n",
       "27033   38    RESISTÊNCIA            0             0         0           0   \n",
       "55226   19  SANTO ANTÔNIO            0             0         0           0   \n",
       "64175   22     CONSOLAÇÃO            0             0         0           0   \n",
       "71533   81  SANTO ANTÔNIO            0             0         0           0   \n",
       "72362    7     TABUAZEIRO            0             0         0           0   \n",
       "\n",
       "       Handcap  SMS_received No-show  LeadTime  \n",
       "27033        1             0     Yes        -1  \n",
       "55226        1             0     Yes        -1  \n",
       "64175        0             0     Yes        -1  \n",
       "71533        0             0     Yes        -6  \n",
       "72362        0             0     Yes        -1  "
      ]
     },
     "execution_count": 42,
     "metadata": {},
     "output_type": "execute_result"
    }
   ],
   "source": [
    "df[df['LeadTime'] < 0]\n"
   ]
  },
  {
   "cell_type": "markdown",
   "metadata": {},
   "source": [
    "> ⚠️ **Data Quality Note**:  \n",
    "> A few records had negative lead times (e.g., -1 or -6), which are logically invalid since appointments can't be scheduled *after* the appointment date. These were removed from the dataset to ensure model reliability.\n",
    "> Let's remove them \n"
   ]
  },
  {
   "cell_type": "code",
   "execution_count": 43,
   "metadata": {
    "execution": {
     "iopub.execute_input": "2025-03-30T01:12:38.066639Z",
     "iopub.status.busy": "2025-03-30T01:12:38.066115Z",
     "iopub.status.idle": "2025-03-30T01:12:38.151773Z",
     "shell.execute_reply": "2025-03-30T01:12:38.150541Z",
     "shell.execute_reply.started": "2025-03-30T01:12:38.066582Z"
    },
    "trusted": true
   },
   "outputs": [],
   "source": [
    "df = df[df['LeadTime'] >= 0].reset_index(drop=True)"
   ]
  },
  {
   "cell_type": "code",
   "execution_count": 44,
   "metadata": {
    "execution": {
     "iopub.execute_input": "2025-03-30T01:12:38.153199Z",
     "iopub.status.busy": "2025-03-30T01:12:38.152842Z",
     "iopub.status.idle": "2025-03-30T01:12:38.263119Z",
     "shell.execute_reply": "2025-03-30T01:12:38.262054Z",
     "shell.execute_reply.started": "2025-03-30T01:12:38.15316Z"
    },
    "trusted": true
   },
   "outputs": [],
   "source": [
    "# Create cross-tab: lead_time vs No-show\n",
    "cross_tab_date_diff = pd.crosstab(\n",
    "    index=df['LeadTime'],\n",
    "    columns=df['No-show'],\n",
    "    values=df['No-show'],\n",
    "    aggfunc='count',\n",
    "    margins=True\n",
    ")\n"
   ]
  },
  {
   "cell_type": "code",
   "execution_count": 45,
   "metadata": {
    "execution": {
     "iopub.execute_input": "2025-03-30T01:12:38.26462Z",
     "iopub.status.busy": "2025-03-30T01:12:38.26423Z",
     "iopub.status.idle": "2025-03-30T01:12:38.271775Z",
     "shell.execute_reply": "2025-03-30T01:12:38.270365Z",
     "shell.execute_reply.started": "2025-03-30T01:12:38.264579Z"
    },
    "trusted": true
   },
   "outputs": [],
   "source": [
    "# Keep only valid lead times (e.g., 0–128 days)\n",
    "cross_tab_date_diff = cross_tab_date_diff.head(129)\n",
    "\n",
    "# Compute % no-show rate\n",
    "cross_tab_date_diff[\"%-Noshow\"] = round((cross_tab_date_diff[\"Yes\"] / cross_tab_date_diff[\"All\"]) * 100, 2)\n",
    "\n",
    "# Reset index for plotting\n",
    "cross_tab_date_diff.reset_index(inplace=True)\n"
   ]
  },
  {
   "cell_type": "code",
   "execution_count": 46,
   "metadata": {
    "execution": {
     "iopub.execute_input": "2025-03-30T01:13:36.067779Z",
     "iopub.status.busy": "2025-03-30T01:13:36.067093Z",
     "iopub.status.idle": "2025-03-30T01:13:36.774491Z",
     "shell.execute_reply": "2025-03-30T01:13:36.77316Z",
     "shell.execute_reply.started": "2025-03-30T01:13:36.06773Z"
    },
    "trusted": true
   },
   "outputs": [
    {
     "data": {
      "image/png": "[encoded data removed]",
      "text/plain": [
       "<Figure size 1200x600 with 1 Axes>"
      ]
     },
     "metadata": {},
     "output_type": "display_data"
    }
   ],
   "source": [
    "# Plot: No-show rate by lead time\n",
    "plt.figure(figsize=(12, 6))\n",
    "sns.set_style(\"whitegrid\")\n",
    "sns.lineplot(\n",
    "    data=cross_tab_date_diff,\n",
    "    x=\"LeadTime\",\n",
    "    y=\"%-Noshow\",\n",
    "    marker=\"o\",\n",
    "    linewidth=2.5\n",
    ")\n",
    "plt.title(\"No-show Rate by Lead Time (Days)\", fontsize=16, weight='bold')\n",
    "plt.xlabel(\"Lead Time (Days)\", fontsize=12)\n",
    "plt.ylabel(\"No-show Rate (%)\", fontsize=12)\n",
    "plt.xticks(fontsize=10)\n",
    "plt.yticks(fontsize=10)\n",
    "plt.grid(True)\n",
    "plt.tight_layout()\n",
    "plt.show()"
   ]
  },
  {
   "cell_type": "markdown",
   "metadata": {},
   "source": [
    "### 📊 No-show Rate vs Lead Time\n",
    "\n",
    "We examine how the number of days between scheduling and the actual appointment affects patient behavior.\n",
    "\n",
    "- Higher lead times may increase forgetfulness.\n",
    "- Very short lead times may indicate emergency/urgent care.\n",
    "\n",
    "This plot helps us explore such patterns.\n",
    "\n",
    "### 📌 Observation:\n",
    "The no-show rate remains fairly stable (~20–40%) for lead times under 90 days, but spikes unpredictably beyond 100 days, likely due to data sparsity or scheduling anomalies.\n"
   ]
  },
  {
   "cell_type": "code",
   "execution_count": 47,
   "metadata": {
    "execution": {
     "iopub.execute_input": "2025-03-30T01:13:37.262869Z",
     "iopub.status.busy": "2025-03-30T01:13:37.262445Z",
     "iopub.status.idle": "2025-03-30T01:13:37.357705Z",
     "shell.execute_reply": "2025-03-30T01:13:37.356714Z",
     "shell.execute_reply.started": "2025-03-30T01:13:37.262832Z"
    },
    "trusted": true
   },
   "outputs": [],
   "source": [
    "# Create cross-tab: lead_time vs No-show\n",
    "cross_tab_age = pd.crosstab(\n",
    "    index=df['Age'],\n",
    "    columns=df['No-show'],\n",
    "    values=df['No-show'],\n",
    "    aggfunc='count',\n",
    "    margins=True\n",
    ")\n",
    "\n",
    "# Age range: 0–103\n",
    "cross_tab_age = cross_tab_age.head(104) \n",
    "\n",
    "# Compute % no-show rate\n",
    "cross_tab_age[\"%-Noshow\"] = round((cross_tab_age[\"Yes\"] / cross_tab_age[\"All\"]) * 100, 2)\n",
    "\n",
    "# Reset index for plotting\n",
    "cross_tab_age.reset_index(inplace=True)"
   ]
  },
  {
   "cell_type": "code",
   "execution_count": 48,
   "metadata": {
    "execution": {
     "iopub.execute_input": "2025-03-30T01:13:37.397569Z",
     "iopub.status.busy": "2025-03-30T01:13:37.397034Z",
     "iopub.status.idle": "2025-03-30T01:13:37.800887Z",
     "shell.execute_reply": "2025-03-30T01:13:37.799729Z",
     "shell.execute_reply.started": "2025-03-30T01:13:37.39753Z"
    },
    "trusted": true
   },
   "outputs": [
    {
     "data": {
      "image/png": "[encoded data removed]",
      "text/plain": [
       "<Figure size 1200x600 with 1 Axes>"
      ]
     },
     "metadata": {},
     "output_type": "display_data"
    }
   ],
   "source": [
    "# Plotting\n",
    "plt.figure(figsize=(12, 6))\n",
    "sns.set_style(\"whitegrid\")\n",
    "sns.lineplot(\n",
    "    data=cross_tab_age,\n",
    "    x=\"Age\",\n",
    "    y=\"%-Noshow\",\n",
    "    marker=\"o\",\n",
    "    linewidth=2.5,\n",
    "    color=\"teal\"\n",
    ")\n",
    "plt.title(\"No-show Rate by Patient's Age\", fontsize=16, weight='bold')\n",
    "plt.xlabel(\"Age\", fontsize=12)\n",
    "plt.ylabel(\"No-show Rate (%)\", fontsize=12)\n",
    "plt.xticks(fontsize=10)\n",
    "plt.yticks(fontsize=10)\n",
    "plt.grid(True)\n",
    "plt.tight_layout()\n",
    "plt.show()"
   ]
  },
  {
   "cell_type": "markdown",
   "metadata": {},
   "source": [
    "### 📊 No-show Rate by Patient's Age\n",
    "\n",
    "This chart analyzes how patient age influences the likelihood of missing a scheduled appointment.\n",
    "\n",
    "- 👶 **Ages 0–20**:  \n",
    "  No-show rates gradually increase to ~28%. This may reflect dependency on parents, school conflicts, or lower perceived urgency.\n",
    "\n",
    "- 👨‍💼 **Ages 20–60**:  \n",
    "  A steady decline in no-show rate (~18–20%) indicates better healthcare responsibility, possibly due to work-related health needs or structured routines.\n",
    "\n",
    "- 👵 **Ages 60–90**:  \n",
    "  No-show rates remain relatively stable and low, as this group likely includes patients with chronic conditions who prioritize appointments.\n",
    "\n",
    "- ⚠️ **Ages 90+**:  \n",
    "  Spikes (up to 60%) are visible, but these are likely due to **very few data points**, making them **statistically unreliable**.\n",
    "\n",
    "---\n",
    "\n",
    "**📌 Observation:**  \n",
    "**Young (<20) and very elderly (>100)** patients show the highest no-show rates, while **middle-aged adults (20–60)** demonstrate the most consistent attendance patterns.\n",
    "\n"
   ]
  },
  {
   "cell_type": "code",
   "execution_count": 49,
   "metadata": {
    "execution": {
     "iopub.execute_input": "2025-03-30T01:13:39.297941Z",
     "iopub.status.busy": "2025-03-30T01:13:39.297466Z",
     "iopub.status.idle": "2025-03-30T01:13:39.326168Z",
     "shell.execute_reply": "2025-03-30T01:13:39.324485Z",
     "shell.execute_reply.started": "2025-03-30T01:13:39.297899Z"
    },
    "trusted": true
   },
   "outputs": [
    {
     "data": {
      "text/html": [
       "<div>\n",
       "<style scoped>\n",
       "    .dataframe tbody tr th:only-of-type {\n",
       "        vertical-align: middle;\n",
       "    }\n",
       "\n",
       "    .dataframe tbody tr th {\n",
       "        vertical-align: top;\n",
       "    }\n",
       "\n",
       "    .dataframe thead th {\n",
       "        text-align: right;\n",
       "    }\n",
       "</style>\n",
       "<table border=\"1\" class=\"dataframe\">\n",
       "  <thead>\n",
       "    <tr style=\"text-align: right;\">\n",
       "      <th>No-show</th>\n",
       "      <th>Age</th>\n",
       "      <th>No</th>\n",
       "      <th>Yes</th>\n",
       "      <th>All</th>\n",
       "      <th>%-Noshow</th>\n",
       "    </tr>\n",
       "  </thead>\n",
       "  <tbody>\n",
       "    <tr>\n",
       "      <th>0</th>\n",
       "      <td>-1</td>\n",
       "      <td>1.0</td>\n",
       "      <td>NaN</td>\n",
       "      <td>1</td>\n",
       "      <td>NaN</td>\n",
       "    </tr>\n",
       "    <tr>\n",
       "      <th>1</th>\n",
       "      <td>0</td>\n",
       "      <td>2900.0</td>\n",
       "      <td>639.0</td>\n",
       "      <td>3539</td>\n",
       "      <td>18.06</td>\n",
       "    </tr>\n",
       "    <tr>\n",
       "      <th>2</th>\n",
       "      <td>1</td>\n",
       "      <td>1858.0</td>\n",
       "      <td>415.0</td>\n",
       "      <td>2273</td>\n",
       "      <td>18.26</td>\n",
       "    </tr>\n",
       "    <tr>\n",
       "      <th>3</th>\n",
       "      <td>2</td>\n",
       "      <td>1366.0</td>\n",
       "      <td>252.0</td>\n",
       "      <td>1618</td>\n",
       "      <td>15.57</td>\n",
       "    </tr>\n",
       "    <tr>\n",
       "      <th>4</th>\n",
       "      <td>3</td>\n",
       "      <td>1236.0</td>\n",
       "      <td>277.0</td>\n",
       "      <td>1513</td>\n",
       "      <td>18.31</td>\n",
       "    </tr>\n",
       "    <tr>\n",
       "      <th>...</th>\n",
       "      <td>...</td>\n",
       "      <td>...</td>\n",
       "      <td>...</td>\n",
       "      <td>...</td>\n",
       "      <td>...</td>\n",
       "    </tr>\n",
       "    <tr>\n",
       "      <th>99</th>\n",
       "      <td>98</td>\n",
       "      <td>5.0</td>\n",
       "      <td>1.0</td>\n",
       "      <td>6</td>\n",
       "      <td>16.67</td>\n",
       "    </tr>\n",
       "    <tr>\n",
       "      <th>100</th>\n",
       "      <td>99</td>\n",
       "      <td>1.0</td>\n",
       "      <td>NaN</td>\n",
       "      <td>1</td>\n",
       "      <td>NaN</td>\n",
       "    </tr>\n",
       "    <tr>\n",
       "      <th>101</th>\n",
       "      <td>100</td>\n",
       "      <td>4.0</td>\n",
       "      <td>NaN</td>\n",
       "      <td>4</td>\n",
       "      <td>NaN</td>\n",
       "    </tr>\n",
       "    <tr>\n",
       "      <th>102</th>\n",
       "      <td>102</td>\n",
       "      <td>2.0</td>\n",
       "      <td>NaN</td>\n",
       "      <td>2</td>\n",
       "      <td>NaN</td>\n",
       "    </tr>\n",
       "    <tr>\n",
       "      <th>103</th>\n",
       "      <td>115</td>\n",
       "      <td>2.0</td>\n",
       "      <td>3.0</td>\n",
       "      <td>5</td>\n",
       "      <td>60.00</td>\n",
       "    </tr>\n",
       "  </tbody>\n",
       "</table>\n",
       "<p>104 rows × 5 columns</p>\n",
       "</div>"
      ],
      "text/plain": [
       "No-show  Age      No    Yes   All  %-Noshow\n",
       "0         -1     1.0    NaN     1       NaN\n",
       "1          0  2900.0  639.0  3539     18.06\n",
       "2          1  1858.0  415.0  2273     18.26\n",
       "3          2  1366.0  252.0  1618     15.57\n",
       "4          3  1236.0  277.0  1513     18.31\n",
       "..       ...     ...    ...   ...       ...\n",
       "99        98     5.0    1.0     6     16.67\n",
       "100       99     1.0    NaN     1       NaN\n",
       "101      100     4.0    NaN     4       NaN\n",
       "102      102     2.0    NaN     2       NaN\n",
       "103      115     2.0    3.0     5     60.00\n",
       "\n",
       "[104 rows x 5 columns]"
      ]
     },
     "execution_count": 49,
     "metadata": {},
     "output_type": "execute_result"
    }
   ],
   "source": [
    "cross_tab_age"
   ]
  },
  {
   "cell_type": "markdown",
   "metadata": {},
   "source": [
    "### 🧹 Data Cleaning: Invalid Age Values\n",
    "\n",
    "During data exploration, we identified a few records with an invalid age of `-1`. Since age cannot be negative, these rows were considered data entry errors and removed from the dataset, also **age>100** is also removed  \n",
    "\n",
    "- 🔎 **Rows removed**: All entries with `Age < 0` (1 row) and `Age > 100`\n",
    "- ✅ **Impact**: Improves the integrity of age-based analysis and modeling.\n"
   ]
  },
  {
   "cell_type": "code",
   "execution_count": 50,
   "metadata": {
    "execution": {
     "iopub.execute_input": "2025-03-30T01:13:39.877637Z",
     "iopub.status.busy": "2025-03-30T01:13:39.877189Z",
     "iopub.status.idle": "2025-03-30T01:13:39.917617Z",
     "shell.execute_reply": "2025-03-30T01:13:39.916282Z",
     "shell.execute_reply.started": "2025-03-30T01:13:39.877597Z"
    },
    "trusted": true
   },
   "outputs": [],
   "source": [
    "df = df[(df[\"Age\"]>0) & (df[\"Age\"]<100)].reset_index(drop=True)"
   ]
  },
  {
   "cell_type": "code",
   "execution_count": 51,
   "metadata": {
    "execution": {
     "iopub.execute_input": "2025-03-30T01:13:40.054075Z",
     "iopub.status.busy": "2025-03-30T01:13:40.053121Z",
     "iopub.status.idle": "2025-03-30T01:13:40.109281Z",
     "shell.execute_reply": "2025-03-30T01:13:40.107929Z",
     "shell.execute_reply.started": "2025-03-30T01:13:40.053994Z"
    },
    "trusted": true
   },
   "outputs": [],
   "source": [
    "# Crosstab: Neighborhood vs No-show\n",
    "cross_tab_neigh = pd.crosstab(\n",
    "    index=df[\"Neighbourhood\"],\n",
    "    columns=df[\"No-show\"],\n",
    "    values=df[\"No-show\"],\n",
    "    aggfunc=\"count\",\n",
    "    margins=False\n",
    ")\n",
    "\n",
    "# Calculate no-show percentage\n",
    "\n",
    "cross_tab_neigh[\"%-Noshow\"] = round((cross_tab_neigh[\"Yes\"] / (cross_tab_neigh[\"Yes\"] + cross_tab_neigh[\"No\"])) * 100, 2)\n",
    "\n",
    "# Sort by no-show rate (optional: or by total count)\n",
    "cross_tab_neigh = cross_tab_neigh.sort_values(by=\"%-Noshow\", ascending=False)\n",
    "\n",
    "# Reset index for plotting\n",
    "cross_tab_neigh.reset_index(inplace=True)\n"
   ]
  },
  {
   "cell_type": "code",
   "execution_count": 52,
   "metadata": {
    "execution": {
     "iopub.execute_input": "2025-03-30T01:13:40.253012Z",
     "iopub.status.busy": "2025-03-30T01:13:40.252551Z",
     "iopub.status.idle": "2025-03-30T01:13:40.895287Z",
     "shell.execute_reply": "2025-03-30T01:13:40.894025Z",
     "shell.execute_reply.started": "2025-03-30T01:13:40.252973Z"
    },
    "trusted": true
   },
   "outputs": [
    {
     "name": "stderr",
     "output_type": "stream",
     "text": [
      "C:\\Users\\user\\AppData\\Local\\Temp\\ipykernel_6900\\3861029848.py:4: FutureWarning: \n",
      "\n",
      "Passing `palette` without assigning `hue` is deprecated and will be removed in v0.14.0. Assign the `y` variable to `hue` and set `legend=False` for the same effect.\n",
      "\n",
      "  sns.barplot(\n"
     ]
    },
    {
     "data": {
      "image/png": "[encoded data removed]",
      "text/plain": [
       "<Figure size 1400x700 with 1 Axes>"
      ]
     },
     "metadata": {},
     "output_type": "display_data"
    }
   ],
   "source": [
    "# Replot with a new shade\n",
    "plt.figure(figsize=(14, 7))\n",
    "sns.set_style(\"whitegrid\")\n",
    "sns.barplot(\n",
    "    data=cross_tab_neigh.head(20),\n",
    "    x=\"%-Noshow\",\n",
    "    y=\"Neighbourhood\",\n",
    "    palette=\"Reds_r\"  \n",
    ")\n",
    "plt.title(\"Top 20 Neighborhoods by No-show Rate\", fontsize=16, weight='bold')\n",
    "plt.xlabel(\"No-show Rate (%)\", fontsize=12)\n",
    "plt.ylabel(\"Neighborhood\", fontsize=12)\n",
    "plt.tight_layout()\n",
    "plt.show()\n"
   ]
  },
  {
   "cell_type": "markdown",
   "metadata": {},
   "source": [
    "### 🏙️ No-show Rate by Neighborhood\n",
    "\n",
    "This chart highlights the top 20 neighborhoods with the highest no-show rates. These areas may benefit from targeted interventions such as community outreach, SMS/call reminders, or better transportation access.\n",
    "\n",
    "**📌 Observations:**\n",
    "- `SANTOS DUMONT`, `SANTA CECÍLIA`, and `SANTA CLARA` show no-show rates above **25%**, indicating significant attendance challenges.\n",
    "- Most other neighborhoods in the top 20 fall between **18%–24%** no-show rate.\n",
    "- Some of these areas may reflect **socioeconomic factors**, distance to clinics, or awareness levels influencing adherence.\n",
    "\n",
    "Understanding these patterns enables **localized solutions** to reduce no-shows and improve public health impact.\n"
   ]
  },
  {
   "cell_type": "code",
   "execution_count": 53,
   "metadata": {
    "execution": {
     "iopub.execute_input": "2025-03-30T01:13:46.938147Z",
     "iopub.status.busy": "2025-03-30T01:13:46.937584Z",
     "iopub.status.idle": "2025-03-30T01:13:46.945349Z",
     "shell.execute_reply": "2025-03-30T01:13:46.943842Z",
     "shell.execute_reply.started": "2025-03-30T01:13:46.9381Z"
    },
    "trusted": true
   },
   "outputs": [],
   "source": [
    "# Function to generate cross-tab with no-show % calculation\n",
    "def get_cross_tab(df, col1, col2): \n",
    "    cross_tab = pd.crosstab(\n",
    "        index=df[col1],\n",
    "        columns=df[col2],\n",
    "        values=df[col2],\n",
    "        aggfunc=\"count\",\n",
    "        margins=False\n",
    "    )\n",
    "\n",
    "    cross_tab[\"%-Noshow\"] = round((cross_tab[\"Yes\"] / (cross_tab[\"Yes\"] + cross_tab[\"No\"])) * 100, 2)\n",
    "    cross_tab = cross_tab.sort_values(by=\"%-Noshow\", ascending=False)\n",
    "    cross_tab.reset_index(inplace=True)\n",
    "    \n",
    "    return cross_tab\n"
   ]
  },
  {
   "cell_type": "code",
   "execution_count": 54,
   "metadata": {
    "execution": {
     "iopub.execute_input": "2025-03-30T01:13:47.247235Z",
     "iopub.status.busy": "2025-03-30T01:13:47.246843Z",
     "iopub.status.idle": "2025-03-30T01:13:47.253152Z",
     "shell.execute_reply": "2025-03-30T01:13:47.252066Z",
     "shell.execute_reply.started": "2025-03-30T01:13:47.247207Z"
    },
    "trusted": true
   },
   "outputs": [],
   "source": [
    "# Function to plot vertical bar chart from cross-tab\n",
    "def plot_cross_tab(df, x_col, y_col, x_label, y_label, title, palette=\"Blues_r\"):\n",
    "    plt.figure(figsize=(8, 6))\n",
    "    sns.set_style(\"whitegrid\")\n",
    "\n",
    "    sns.barplot(\n",
    "        data=df,\n",
    "        x=x_col,\n",
    "        y=y_col,\n",
    "        palette=palette\n",
    "    )\n",
    "\n",
    "    plt.title(title, fontsize=16, weight='bold')\n",
    "    plt.xlabel(x_label, fontsize=12)\n",
    "    plt.ylabel(y_label, fontsize=12)\n",
    "    plt.tight_layout()\n",
    "    plt.show()"
   ]
  },
  {
   "cell_type": "code",
   "execution_count": 55,
   "metadata": {
    "execution": {
     "iopub.execute_input": "2025-03-30T01:13:49.891911Z",
     "iopub.status.busy": "2025-03-30T01:13:49.891556Z",
     "iopub.status.idle": "2025-03-30T01:13:49.923096Z",
     "shell.execute_reply": "2025-03-30T01:13:49.922051Z",
     "shell.execute_reply.started": "2025-03-30T01:13:49.891883Z"
    },
    "trusted": true
   },
   "outputs": [],
   "source": [
    "cross_tab_sch = get_cross_tab(df, col1=\"Scholarship\", col2=\"No-show\")"
   ]
  },
  {
   "cell_type": "code",
   "execution_count": null,
   "metadata": {
    "execution": {
     "iopub.execute_input": "2025-03-30T01:13:50.026058Z",
     "iopub.status.busy": "2025-03-30T01:13:50.02564Z",
     "iopub.status.idle": "2025-03-30T01:13:50.275602Z",
     "shell.execute_reply": "2025-03-30T01:13:50.274329Z",
     "shell.execute_reply.started": "2025-03-30T01:13:50.026024Z"
    },
    "trusted": true
   },
   "outputs": [],
   "source": [
    "plot_cross_tab(cross_tab_sch, \n",
    "               x_col=\"Scholarship\",\n",
    "               y_col=\"%-Noshow\", \n",
    "               x_label=\"Scholarship\", \n",
    "               y_label=\"No-show Rate (%)\", \n",
    "               title=\"No-show Rate by Scholarship\",\n",
    "               palette=\"Blues_r\")"
   ]
  },
  {
   "cell_type": "markdown",
   "metadata": {},
   "source": [
    "### 🎓 No-show Rate by Scholarship Status\n",
    "\n",
    "This chart compares the no-show rate between patients who received a government scholarship (1) and those who did not (0).\n",
    "\n",
    "- Patients with a scholarship exhibit a **higher no-show rate (~24%)** compared to non-recipients (~20%).\n",
    "- This suggests that while financial support may reduce cost barriers, it might not be enough to ensure adherence — **non-financial challenges** like access, education, or personal health beliefs could still influence behavior.\n",
    "\n",
    "**📌 Observation:**  \n",
    "Receiving a scholarship does not guarantee better attendance. Targeted education, follow-ups, or community outreach may be needed for this group.\n"
   ]
  },
  {
   "cell_type": "code",
   "execution_count": null,
   "metadata": {
    "execution": {
     "iopub.execute_input": "2025-03-30T01:13:50.332529Z",
     "iopub.status.busy": "2025-03-30T01:13:50.331974Z",
     "iopub.status.idle": "2025-03-30T01:13:50.647199Z",
     "shell.execute_reply": "2025-03-30T01:13:50.645915Z",
     "shell.execute_reply.started": "2025-03-30T01:13:50.332358Z"
    },
    "trusted": true
   },
   "outputs": [],
   "source": [
    "cross_tab_hypT = get_cross_tab(df, col1=\"Hipertension\", col2=\"No-show\")\n",
    "\n",
    "plot_cross_tab(cross_tab_hypT, \n",
    "               x_col=\"Hipertension\",\n",
    "               y_col=\"%-Noshow\", \n",
    "               x_label=\"Hipertension\", \n",
    "               y_label=\"No-show Rate (%)\", \n",
    "               title=\"No-show Rate by Hypertension\",\n",
    "               palette=\"Blues_r\")"
   ]
  },
  {
   "cell_type": "markdown",
   "metadata": {},
   "source": [
    "### 🫀 No-show Rate by Hypertension Status\n",
    "\n",
    "This bar chart compares the no-show rate between patients with (`1`) and without (`0`) a hypertension diagnosis.\n",
    "\n",
    "- Patients **without hypertension** have a higher no-show rate (`~21%`) than those **with hypertension** (`~17.5%`).\n",
    "- This pattern may reflect greater health consciousness or dependency on ro\n",
    "- utine care among patients with chronic conditions.\n",
    "\n",
    "\n",
    "**📌 Observation:**  \n",
    "Patients with hypertension are more likely to adhere to appointments, possibly due to a higher perceived need for continuous care and monitoring.\n"
   ]
  },
  {
   "cell_type": "code",
   "execution_count": null,
   "metadata": {
    "execution": {
     "iopub.execute_input": "2025-03-30T01:13:55.3821Z",
     "iopub.status.busy": "2025-03-30T01:13:55.381687Z",
     "iopub.status.idle": "2025-03-30T01:13:55.683195Z",
     "shell.execute_reply": "2025-03-30T01:13:55.681899Z",
     "shell.execute_reply.started": "2025-03-30T01:13:55.382066Z"
    },
    "trusted": true
   },
   "outputs": [],
   "source": [
    "cross_tab_diabetes = get_cross_tab(df, col1=\"Diabetes\", col2=\"No-show\")\n",
    "\n",
    "plot_cross_tab(cross_tab_diabetes, \n",
    "               x_col=\"Diabetes\",\n",
    "               y_col=\"%-Noshow\", \n",
    "               x_label=\"Diabetes\", \n",
    "               y_label=\"No-show Rate (%)\", \n",
    "               title=\"No-show Rate by Diabetes\",\n",
    "               palette=\"Blues_r\")"
   ]
  },
  {
   "cell_type": "markdown",
   "metadata": {},
   "source": [
    "### 🍩 No-show Rate by Diabetes Status\n",
    "\n",
    "This chart compares no-show rates between patients **with diabetes (1)** and those **without (0)**.\n",
    "\n",
    "- Patients **with diabetes** have a lower no-show rate (`~18%`) than non-diabetic patients (`~20.5%`).\n",
    "- This could reflect a greater urgency for ongoing medical attention and adherence to care among individuals managing chronic illnesses.\n",
    "\n",
    "**📌 Observation:**  \n",
    "Similar to other chronic conditions like hypertension, diabetic patients tend to be more reliable in attending appointments — likely due to the nature of their condition requiring regular follow-ups.\n"
   ]
  },
  {
   "cell_type": "code",
   "execution_count": null,
   "metadata": {
    "execution": {
     "iopub.execute_input": "2025-03-30T01:13:56.517996Z",
     "iopub.status.busy": "2025-03-30T01:13:56.517495Z",
     "iopub.status.idle": "2025-03-30T01:13:56.818619Z",
     "shell.execute_reply": "2025-03-30T01:13:56.817439Z",
     "shell.execute_reply.started": "2025-03-30T01:13:56.517952Z"
    },
    "trusted": true
   },
   "outputs": [],
   "source": [
    "cross_tab_alch = get_cross_tab(df, col1=\"Alcoholism\", col2=\"No-show\")\n",
    "\n",
    "plot_cross_tab(cross_tab_alch, \n",
    "               x_col=\"Alcoholism\",\n",
    "               y_col=\"%-Noshow\", \n",
    "               x_label=\"Alcoholism\", \n",
    "               y_label=\"No-show Rate (%)\", \n",
    "               title=\"No-show Rate by Alcoholism\",\n",
    "               palette=\"Blues_r\")"
   ]
  },
  {
   "cell_type": "markdown",
   "metadata": {},
   "source": [
    "### 🍷 No-show Rate by Alcoholism\n",
    "\n",
    "This chart compares patients who **have** alcoholism (`1`) versus those who **don’t** (`0`).\n",
    "\n",
    "- There is **little to no difference** between the two groups.\n",
    "- Alcoholism does **not appear to significantly influence** appointment adherence.\n",
    "\n",
    "**📌 Observation:**  \n",
    "Unlike other chronic conditions, alcoholism doesn't show a clear impact on no-show behavior in this dataset.\n"
   ]
  },
  {
   "cell_type": "code",
   "execution_count": null,
   "metadata": {
    "execution": {
     "iopub.execute_input": "2025-03-30T01:13:59.227295Z",
     "iopub.status.busy": "2025-03-30T01:13:59.226865Z",
     "iopub.status.idle": "2025-03-30T01:13:59.547032Z",
     "shell.execute_reply": "2025-03-30T01:13:59.545898Z",
     "shell.execute_reply.started": "2025-03-30T01:13:59.227262Z"
    },
    "trusted": true
   },
   "outputs": [],
   "source": [
    "cross_tab_hand_cap = get_cross_tab(df, col1=\"Handcap\", col2=\"No-show\")\n",
    "\n",
    "plot_cross_tab(cross_tab_hand_cap, \n",
    "               x_col=\"Handcap\",\n",
    "               y_col=\"%-Noshow\", \n",
    "               x_label=\"Handcap\", \n",
    "               y_label=\"No-show Rate (%)\", \n",
    "               title=\"No-show Rate by Alcoholism\",\n",
    "               palette=\"Reds_r\")"
   ]
  },
  {
   "cell_type": "markdown",
   "metadata": {},
   "source": [
    "### ♿ No-show Rate by Handicap Level\n",
    "\n",
    "This chart breaks down no-show rates across different handicap levels (0–4).\n",
    "\n",
    "- Patients with **higher handicap levels (3–4)** show a noticeable **increase in no-show rates**, especially level 4 (~33%).\n",
    "- This could be due to **mobility challenges**, transportation barriers, or caregiver dependency.\n",
    "\n",
    "**📌 Observation:**  \n",
    "As handicap severity increases, so does the no-show rate. These patients may need **extra support or home-based care options** to reduce missed visits.\n"
   ]
  },
  {
   "cell_type": "code",
   "execution_count": null,
   "metadata": {
    "execution": {
     "iopub.execute_input": "2025-03-30T01:14:01.988129Z",
     "iopub.status.busy": "2025-03-30T01:14:01.987444Z",
     "iopub.status.idle": "2025-03-30T01:14:02.252115Z",
     "shell.execute_reply": "2025-03-30T01:14:02.251028Z",
     "shell.execute_reply.started": "2025-03-30T01:14:01.988086Z"
    },
    "trusted": true
   },
   "outputs": [],
   "source": [
    "cross_tab_sms= get_cross_tab(df, col1=\"SMS_received\", col2=\"No-show\")\n",
    "\n",
    "plot_cross_tab(cross_tab_sms, \n",
    "               x_col=\"SMS_received\",\n",
    "               y_col=\"%-Noshow\", \n",
    "               x_label=\"SMS_received\", \n",
    "               y_label=\"No-show Rate (%)\", \n",
    "               title=\"No-show Rate by SMS_received\",\n",
    "               palette=\"Blues_r\")"
   ]
  },
  {
   "cell_type": "markdown",
   "metadata": {},
   "source": [
    "### 📩 No-show Rate by SMS Reminder\n",
    "\n",
    "This chart compares no-show rates between patients who **did not receive** an SMS (`0`) and those who **did** (`1`).\n",
    "\n",
    "- Surprisingly, patients who **received an SMS** had a **higher no-show rate (~27%)** compared to those who did not (~16%).\n",
    "- This could indicate that **SMS alone is not effective** — or perhaps messages were sent too late, ignored, or not understood.\n",
    "\n",
    "**📌 Observation:**  \n",
    "SMS reminders alone may not be sufficient. Consider **timing, message clarity**, or combining SMS with **phone calls or in-person outreach**.\n"
   ]
  },
  {
   "cell_type": "markdown",
   "metadata": {},
   "source": [
    "---"
   ]
  },
  {
   "cell_type": "markdown",
   "metadata": {},
   "source": [
    "## 📦 Machine Learning Models: Logistic Regression, Random Forest, and XGBoost\n",
    "\n",
    "In this section, we build and compare three supervised classification models to predict patient no-show behavior:\n",
    "\n",
    "- **Logistic Regression** — a baseline linear model for binary classification.\n",
    "- **Random Forest** — an ensemble of decision trees for capturing nonlinear relationships.\n",
    "- **XGBoost** — a powerful gradient boosting algorithm known for its accuracy and performance.\n",
    "\n",
    "We evaluate the models using the following metrics:\n",
    "- 🎯 **Accuracy**: Overall correctness of the model\n",
    "- 📏 **Precision**: Correctness of positive predictions\n",
    "- 🔁 **Recall**: Coverage of actual positive cases\n",
    "- 🧮 **F1-Score**: Balance between precision and recall\n",
    "\n",
    "The best model will be selected based on **F1-Score**, given the class imbalance in no-show cases.\n"
   ]
  },
  {
   "cell_type": "markdown",
   "metadata": {},
   "source": [
    "### ⚖️ Class Imbalance in No-show Prediction\n",
    "\n",
    "In our dataset, the **distribution of the target variable (`No-show`) is imbalanced**, with more patients showing up than missing their appointments:\n",
    "\n",
    "- `No (showed up)` = ~80%\n",
    "- `Yes (no-show)` = ~20%\n",
    "\n",
    "This imbalance can lead to misleading model performance — for example:\n",
    "- A model predicting **everyone will show up** can still achieve **80% accuracy**, but will **fail to detect actual no-shows**.\n",
    "- Metrics like **precision, recall, and F1-score** are more informative than accuracy alone in such cases.\n",
    "\n",
    "**How we address it:**\n",
    "- We use **F1-score** as the main metric for model comparison.\n",
    "- Advanced options (for future improvement):\n",
    "  - Use `class_weight='balanced'` in models like Logistic Regression or Random Forest.\n",
    "  - Apply **oversampling (SMOTE)** or **undersampling** techniques.\n",
    "  - Use **threshold tuning** or **probability-based scoring** instead of hard classification.\n",
    "\n",
    "Understanding and mitigating class imbalance is essential to ensure models are useful in **real-world medical decision-making**.\n"
   ]
  },
  {
   "cell_type": "code",
   "execution_count": null,
   "metadata": {
    "execution": {
     "iopub.execute_input": "2025-03-30T01:14:08.632104Z",
     "iopub.status.busy": "2025-03-30T01:14:08.631668Z",
     "iopub.status.idle": "2025-03-30T01:14:08.725976Z",
     "shell.execute_reply": "2025-03-30T01:14:08.724996Z",
     "shell.execute_reply.started": "2025-03-30T01:14:08.632071Z"
    },
    "trusted": true
   },
   "outputs": [],
   "source": [
    "\n",
    "# Target variable\n",
    "df['No-show'] = df['No-show'].map({'Yes': 1, 'No': 0})\n",
    "\n",
    "# Features to use\n",
    "features = ['Age', 'Scholarship', 'Hipertension', 'Diabetes', 'Alcoholism', 'Handcap', \n",
    "            'SMS_received', 'LeadTime']\n",
    "\n",
    "# If needed, encode Gender (optional)\n",
    "le = LabelEncoder()\n",
    "df['Gender'] = le.fit_transform(df['Gender'])  # Male:1, Female:0\n",
    "features.append('Gender')\n",
    "\n",
    "X = df[features]\n",
    "y = df['No-show']\n",
    "\n",
    "# Train-test split\n",
    "X_train, X_test, y_train, y_test = train_test_split(X, y, test_size=0.2, random_state=42, stratify=y)\n"
   ]
  },
  {
   "cell_type": "code",
   "execution_count": null,
   "metadata": {
    "execution": {
     "iopub.execute_input": "2025-03-30T01:14:08.87754Z",
     "iopub.status.busy": "2025-03-30T01:14:08.877205Z",
     "iopub.status.idle": "2025-03-30T01:14:08.882874Z",
     "shell.execute_reply": "2025-03-30T01:14:08.881471Z",
     "shell.execute_reply.started": "2025-03-30T01:14:08.877513Z"
    },
    "trusted": true
   },
   "outputs": [],
   "source": [
    "# 🔧 Initialize Models with class_weight (for imbalance handling)\n",
    "log_reg = LogisticRegression(max_iter=1000, class_weight='balanced')\n",
    "rf = RandomForestClassifier(random_state=42, class_weight='balanced')\n",
    "xgb = XGBClassifier(use_label_encoder=False, eval_metric='logloss', random_state=42)\n"
   ]
  },
  {
   "cell_type": "code",
   "execution_count": null,
   "metadata": {
    "execution": {
     "iopub.execute_input": "2025-03-30T01:14:09.086545Z",
     "iopub.status.busy": "2025-03-30T01:14:09.086208Z",
     "iopub.status.idle": "2025-03-30T01:14:17.15777Z",
     "shell.execute_reply": "2025-03-30T01:14:17.156695Z",
     "shell.execute_reply.started": "2025-03-30T01:14:09.086517Z"
    },
    "trusted": true
   },
   "outputs": [],
   "source": [
    "# 🧠 Fit Models\n",
    "log_reg.fit(X_train, y_train)\n",
    "rf.fit(X_train, y_train)\n",
    "xgb.fit(X_train, y_train)\n"
   ]
  },
  {
   "cell_type": "code",
   "execution_count": null,
   "metadata": {
    "execution": {
     "iopub.execute_input": "2025-03-30T01:17:11.197193Z",
     "iopub.status.busy": "2025-03-30T01:17:11.196704Z",
     "iopub.status.idle": "2025-03-30T01:17:11.961146Z",
     "shell.execute_reply": "2025-03-30T01:17:11.960275Z",
     "shell.execute_reply.started": "2025-03-30T01:17:11.197152Z"
    },
    "trusted": true
   },
   "outputs": [],
   "source": [
    "# Predict probabilities\n",
    "log_probs = log_reg.predict_proba(X_test)[:, 1]\n",
    "rf_probs = rf.predict_proba(X_test)[:, 1]\n",
    "xgb_probs = xgb.predict_proba(X_test)[:, 1]"
   ]
  },
  {
   "cell_type": "code",
   "execution_count": null,
   "metadata": {
    "execution": {
     "iopub.execute_input": "2025-03-30T01:14:17.159775Z",
     "iopub.status.busy": "2025-03-30T01:14:17.159364Z",
     "iopub.status.idle": "2025-03-30T01:14:17.82759Z",
     "shell.execute_reply": "2025-03-30T01:14:17.826243Z",
     "shell.execute_reply.started": "2025-03-30T01:14:17.159733Z"
    },
    "trusted": true
   },
   "outputs": [],
   "source": [
    "#  Predictions\n",
    "log_preds = log_reg.predict(X_test)\n",
    "rf_preds = rf.predict(X_test)\n",
    "xgb_preds = xgb.predict(X_test)"
   ]
  },
  {
   "cell_type": "code",
   "execution_count": null,
   "metadata": {
    "execution": {
     "iopub.execute_input": "2025-03-30T01:14:17.829182Z",
     "iopub.status.busy": "2025-03-30T01:14:17.828834Z",
     "iopub.status.idle": "2025-03-30T01:14:17.835088Z",
     "shell.execute_reply": "2025-03-30T01:14:17.833628Z",
     "shell.execute_reply.started": "2025-03-30T01:14:17.829153Z"
    },
    "trusted": true
   },
   "outputs": [],
   "source": [
    "#  Evaluate Models\n",
    "def evaluate_model(name, y_true, y_pred):\n",
    "    return {\n",
    "        'Model': name,\n",
    "        'Accuracy': accuracy_score(y_true, y_pred),\n",
    "        'Precision': precision_score(y_true, y_pred),\n",
    "        'Recall': recall_score(y_true, y_pred),\n",
    "        'F1-Score': f1_score(y_true, y_pred)\n",
    "    }\n"
   ]
  },
  {
   "cell_type": "code",
   "execution_count": null,
   "metadata": {
    "execution": {
     "iopub.execute_input": "2025-03-30T01:14:17.836689Z",
     "iopub.status.busy": "2025-03-30T01:14:17.836297Z",
     "iopub.status.idle": "2025-03-30T01:14:17.958895Z",
     "shell.execute_reply": "2025-03-30T01:14:17.957484Z",
     "shell.execute_reply.started": "2025-03-30T01:14:17.836649Z"
    },
    "trusted": true
   },
   "outputs": [],
   "source": [
    "results = [\n",
    "    evaluate_model(\"Logistic Regression\", y_test, log_preds),\n",
    "    evaluate_model(\"Random Forest\", y_test, rf_preds),\n",
    "    evaluate_model(\"XGBoost\", y_test, xgb_preds)\n",
    "]\n",
    "\n",
    "# 📋 Display Results\n",
    "results_df = pd.DataFrame(results).sort_values(by='F1-Score', ascending=False)\n",
    "results_df"
   ]
  },
  {
   "cell_type": "markdown",
   "metadata": {},
   "source": [
    "**📌 Observations:**\n",
    "- Although XGBoost had the highest accuracy, its very low recall and F1-score make it unsuitable for our use case.\n",
    "- Logistic Regression offered the best trade-off between detecting no-shows and avoiding false positives.\n",
    "- We will consider **Logistic Regression** as the most suitable model for this problem, based on F1-score, given the class imbalance.\n"
   ]
  },
  {
   "cell_type": "code",
   "execution_count": null,
   "metadata": {
    "execution": {
     "iopub.execute_input": "2025-03-30T01:24:50.242079Z",
     "iopub.status.busy": "2025-03-30T01:24:50.24165Z",
     "iopub.status.idle": "2025-03-30T01:24:50.712708Z",
     "shell.execute_reply": "2025-03-30T01:24:50.711415Z",
     "shell.execute_reply.started": "2025-03-30T01:24:50.242046Z"
    },
    "trusted": true
   },
   "outputs": [],
   "source": [
    "# Calculate ROC curves and AUCs\n",
    "log_fpr, log_tpr, _ = roc_curve(y_test, log_probs)\n",
    "rf_fpr, rf_tpr, _ = roc_curve(y_test, rf_probs)\n",
    "xgb_fpr, xgb_tpr, _ = roc_curve(y_test, xgb_probs)\n",
    "\n",
    "log_auc = roc_auc_score(y_test, log_probs)\n",
    "rf_auc = roc_auc_score(y_test, rf_probs)\n",
    "xgb_auc = roc_auc_score(y_test, xgb_probs)\n",
    "\n",
    "# Plot\n",
    "plt.figure(figsize=(10, 6))\n",
    "plt.plot(log_fpr, log_tpr, label=f'Logistic Regression (AUC = {log_auc:.2f})')\n",
    "plt.plot(rf_fpr, rf_tpr, label=f'Random Forest (AUC = {rf_auc:.2f})')\n",
    "plt.plot(xgb_fpr, xgb_tpr, label=f'XGBoost (AUC = {xgb_auc:.2f})')\n",
    "plt.plot([0, 1], [0, 1], 'k--', label='Random Classifier')\n",
    "\n",
    "plt.xlabel('False Positive Rate')\n",
    "plt.ylabel('True Positive Rate')\n",
    "plt.title('ROC Curve Comparison')\n",
    "plt.legend(loc='lower right')\n",
    "plt.grid(True)\n",
    "plt.tight_layout()\n",
    "plt.show()\n"
   ]
  },
  {
   "cell_type": "markdown",
   "metadata": {},
   "source": [
    "**📌 Observations:**\n",
    "- **XGBoost** performs best, with the highest AUC, indicating a stronger ability to differentiate between patients who show up vs no-show.\n",
    "- **Logistic Regression** is a good second, with moderate discriminatory power.\n",
    "- **Random Forest** shows weaker performance in this specific problem.\n",
    "\n",
    "The higher the AUC, the better the model is at distinguishing between classes, especially in imbalanced datasets like ours."
   ]
  },
  {
   "cell_type": "code",
   "execution_count": null,
   "metadata": {
    "execution": {
     "iopub.execute_input": "2025-03-30T01:14:29.043013Z",
     "iopub.status.busy": "2025-03-30T01:14:29.042465Z",
     "iopub.status.idle": "2025-03-30T01:14:29.308236Z",
     "shell.execute_reply": "2025-03-30T01:14:29.306614Z",
     "shell.execute_reply.started": "2025-03-30T01:14:29.042966Z"
    },
    "trusted": true
   },
   "outputs": [],
   "source": [
    "# Apply SMOTE\n",
    "smote = SMOTE(random_state=42)\n",
    "X_resampled, y_resampled = smote.fit_resample(X_train, y_train)"
   ]
  },
  {
   "cell_type": "code",
   "execution_count": null,
   "metadata": {
    "execution": {
     "iopub.execute_input": "2025-03-30T01:21:48.287518Z",
     "iopub.status.busy": "2025-03-30T01:21:48.287107Z",
     "iopub.status.idle": "2025-03-30T01:21:48.293673Z",
     "shell.execute_reply": "2025-03-30T01:21:48.292013Z",
     "shell.execute_reply.started": "2025-03-30T01:21:48.28749Z"
    },
    "trusted": true
   },
   "outputs": [],
   "source": [
    "# Initialize models\n",
    "log_reg_smote = LogisticRegression(max_iter=1000, class_weight='balanced')\n",
    "rf_smote = RandomForestClassifier(random_state=42, class_weight='balanced')\n",
    "xgb_smote = XGBClassifier(use_label_encoder=False, eval_metric='logloss', random_state=42)"
   ]
  },
  {
   "cell_type": "code",
   "execution_count": null,
   "metadata": {
    "execution": {
     "iopub.execute_input": "2025-03-30T01:21:57.36694Z",
     "iopub.status.busy": "2025-03-30T01:21:57.366316Z",
     "iopub.status.idle": "2025-03-30T01:22:11.740389Z",
     "shell.execute_reply": "2025-03-30T01:22:11.739098Z",
     "shell.execute_reply.started": "2025-03-30T01:21:57.366872Z"
    },
    "trusted": true
   },
   "outputs": [],
   "source": [
    "# Train models on resampled data\n",
    "log_reg_smote.fit(X_resampled, y_resampled)\n",
    "rf_smote.fit(X_resampled, y_resampled)\n",
    "xgb_smote.fit(X_resampled, y_resampled)\n"
   ]
  },
  {
   "cell_type": "code",
   "execution_count": null,
   "metadata": {
    "execution": {
     "iopub.execute_input": "2025-03-30T01:23:02.587755Z",
     "iopub.status.busy": "2025-03-30T01:23:02.587414Z",
     "iopub.status.idle": "2025-03-30T01:23:03.290433Z",
     "shell.execute_reply": "2025-03-30T01:23:03.289592Z",
     "shell.execute_reply.started": "2025-03-30T01:23:02.58773Z"
    },
    "trusted": true
   },
   "outputs": [],
   "source": [
    "# Predict probabilities\n",
    "log_smote_probs = log_reg_smote.predict_proba(X_test)[:, 1]\n",
    "rf_smote_probs = rf_smote.predict_proba(X_test)[:, 1]\n",
    "xgb_smote_probs = xgb_smote.predict_proba(X_test)[:, 1]"
   ]
  },
  {
   "cell_type": "code",
   "execution_count": null,
   "metadata": {
    "execution": {
     "iopub.execute_input": "2025-03-30T01:23:03.62211Z",
     "iopub.status.busy": "2025-03-30T01:23:03.621736Z",
     "iopub.status.idle": "2025-03-30T01:23:04.334433Z",
     "shell.execute_reply": "2025-03-30T01:23:04.333572Z",
     "shell.execute_reply.started": "2025-03-30T01:23:03.622082Z"
    },
    "trusted": true
   },
   "outputs": [],
   "source": [
    "# Predictions\n",
    "log_preds_smote = log_reg_smote.predict(X_test)\n",
    "rf_preds_smote = rf_smote.predict(X_test)\n",
    "xgb_preds_smote = xgb_smote.predict(X_test)"
   ]
  },
  {
   "cell_type": "code",
   "execution_count": null,
   "metadata": {
    "execution": {
     "iopub.execute_input": "2025-03-30T01:23:32.931979Z",
     "iopub.status.busy": "2025-03-30T01:23:32.931554Z",
     "iopub.status.idle": "2025-03-30T01:23:33.040111Z",
     "shell.execute_reply": "2025-03-30T01:23:33.03902Z",
     "shell.execute_reply.started": "2025-03-30T01:23:32.931943Z"
    },
    "trusted": true
   },
   "outputs": [],
   "source": [
    "# Evaluate all models\n",
    "results_smote = [\n",
    "    evaluate_model(\"Logistic Regression (SMOTE)\", y_test, log_preds_smote),\n",
    "    evaluate_model(\"Random Forest (SMOTE)\", y_test, rf_preds_smote),\n",
    "    evaluate_model(\"XGBoost (SMOTE)\", y_test, xgb_preds_smote)\n",
    "]"
   ]
  },
  {
   "cell_type": "code",
   "execution_count": null,
   "metadata": {
    "execution": {
     "iopub.execute_input": "2025-03-30T01:24:22.492527Z",
     "iopub.status.busy": "2025-03-30T01:24:22.492198Z",
     "iopub.status.idle": "2025-03-30T01:24:22.500266Z",
     "shell.execute_reply": "2025-03-30T01:24:22.497664Z",
     "shell.execute_reply.started": "2025-03-30T01:24:22.4925Z"
    },
    "trusted": true
   },
   "outputs": [],
   "source": [
    "results_smote_df = pd.DataFrame(results_smote).sort_values(by='F1-Score', ascending=False).reset_index(drop=True)"
   ]
  },
  {
   "cell_type": "code",
   "execution_count": null,
   "metadata": {
    "execution": {
     "iopub.execute_input": "2025-03-30T01:24:26.386987Z",
     "iopub.status.busy": "2025-03-30T01:24:26.386509Z",
     "iopub.status.idle": "2025-03-30T01:24:26.398654Z",
     "shell.execute_reply": "2025-03-30T01:24:26.397506Z",
     "shell.execute_reply.started": "2025-03-30T01:24:26.386949Z"
    },
    "trusted": true
   },
   "outputs": [],
   "source": [
    "results_smote_df"
   ]
  },
  {
   "cell_type": "code",
   "execution_count": null,
   "metadata": {
    "execution": {
     "iopub.execute_input": "2025-03-30T01:28:39.197406Z",
     "iopub.status.busy": "2025-03-30T01:28:39.197071Z",
     "iopub.status.idle": "2025-03-30T01:28:39.619326Z",
     "shell.execute_reply": "2025-03-30T01:28:39.61829Z",
     "shell.execute_reply.started": "2025-03-30T01:28:39.19738Z"
    },
    "trusted": true
   },
   "outputs": [],
   "source": [
    "# Calculate ROC curves and AUCs\n",
    "log_fpr, log_tpr, _ = roc_curve(y_test, log_smote_probs)\n",
    "rf_fpr, rf_tpr, _ = roc_curve(y_test, rf_smote_probs)\n",
    "xgb_fpr, xgb_tpr, _ = roc_curve(y_test, xgb_smote_probs)\n",
    "\n",
    "log_smote_auc = roc_auc_score(y_test, log_smote_probs)\n",
    "rf_smote_auc = roc_auc_score(y_test, rf_smote_probs)\n",
    "xgb_smote_auc = roc_auc_score(y_test, xgb_smote_probs)\n",
    "\n",
    "# Plot\n",
    "plt.figure(figsize=(10, 6))\n",
    "plt.plot(log_fpr, log_tpr, label=f'Logistic Regression (AUC = {log_smote_auc:.2f})')\n",
    "plt.plot(rf_fpr, rf_tpr, label=f'Random Forest (AUC = {rf_smote_auc:.2f})')\n",
    "plt.plot(xgb_fpr, xgb_tpr, label=f'XGBoost (AUC = {xgb_smote_auc:.2f})')\n",
    "plt.plot([0, 1], [0, 1], 'k--', label='Random Classifier')\n",
    "\n",
    "plt.xlabel('False Positive Rate')\n",
    "plt.ylabel('True Positive Rate')\n",
    "plt.title('ROC Curve Comparison with SMOTE')\n",
    "plt.legend(loc='lower right')\n",
    "plt.grid(True)\n",
    "plt.tight_layout()\n",
    "plt.show()\n"
   ]
  },
  {
   "cell_type": "markdown",
   "metadata": {},
   "source": [
    "**📌 Observations:**\n",
    "- **XGBoost** again performs best, maintaining strong separation between classes even after balancing.\n",
    "- **Random Forest** and **Logistic Regression** slightly improved from their pre-SMOTE performance.\n",
    "- This confirms that **handling class imbalance with SMOTE** can lead to better generalization and fairness in classification.\n"
   ]
  },
  {
   "cell_type": "markdown",
   "metadata": {},
   "source": [
    "---"
   ]
  },
  {
   "cell_type": "markdown",
   "metadata": {},
   "source": [
    "## 📌 Key Takeaways\n",
    "\n",
    "- **Patient no-shows are imbalanced**: Only ~20% of patients missed appointments, making the dataset skewed.\n",
    "\n",
    "- **Top features affecting no-shows** included:\n",
    "  - Lead time between scheduling and appointment\n",
    "  - Patient age\n",
    "  - Whether the patient received an SMS\n",
    "  - Scholarship and health conditions (e.g., hypertension, diabetes)\n",
    "\n",
    "- **XGBoost initially had high AUC (0.73)** but performed poorly on recall and F1-score — it mostly predicted “show”.\n",
    "\n",
    "- **SMOTE (Synthetic Minority Oversampling)** helped balance the data, improving all models' ability to detect no-shows.\n",
    "\n",
    "- **After SMOTE**:\n",
    "  - 📈 **XGBoost with SMOTE** had the best F1-score (**0.42**) and recall (**0.70**)\n",
    "  - ✅ It became the best model for deployment when the goal is to **catch more no-shows**.\n",
    "\n",
    "- **Logistic Regression with SMOTE** also performed well and is a good alternative when **simplicity and interpretability** are preferred.\n",
    "\n",
    "---\n",
    "\n",
    "👉 This approach can help clinics or hospitals **proactively target high-risk no-show patients** and take preventive actions like reminders, follow-ups, or overbooking strategies.\n"
   ]
  },
  {
   "cell_type": "code",
   "execution_count": null,
   "metadata": {
    "trusted": true
   },
   "outputs": [],
   "source": []
  }
 ],
 "metadata": {
  "kaggle": {
   "accelerator": "none",
   "dataSources": [
    {
     "datasetId": 792,
     "sourceId": 3538,
     "sourceType": "datasetVersion"
    }
   ],
   "dockerImageVersionId": 30918,
   "isGpuEnabled": false,
   "isInternetEnabled": false,
   "language": "python",
   "sourceType": "notebook"
  },
  "kernelspec": {
   "display_name": "base",
   "language": "python",
   "name": "python3"
  },
  "language_info": {
   "codemirror_mode": {
    "name": "ipython",
    "version": 3
   },
   "file_extension": ".py",
   "mimetype": "text/x-python",
   "name": "python",
   "nbconvert_exporter": "python",
   "pygments_lexer": "ipython3",
   "version": "3.13.5"
  }
 },
 "nbformat": 4,
 "nbformat_minor": 4
}
